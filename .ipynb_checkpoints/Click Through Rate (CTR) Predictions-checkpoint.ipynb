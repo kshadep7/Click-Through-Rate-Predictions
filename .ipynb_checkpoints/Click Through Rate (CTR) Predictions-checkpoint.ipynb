{
 "cells": [
  {
   "cell_type": "markdown",
   "metadata": {},
   "source": [
    "# CTR Prediction on Ad data provided by Avazu"
   ]
  },
  {
   "cell_type": "markdown",
   "metadata": {},
   "source": [
    "## Importing neccesary libraries"
   ]
  },
  {
   "cell_type": "code",
   "execution_count": 2,
   "metadata": {},
   "outputs": [],
   "source": [
    "import pandas as pd\n",
    "import numpy as np\n",
    "import dask.dataframe as dask # used for in-memory large compution on a single machine\n",
    "import random\n",
    "\n",
    "#for visualization\n",
    "import matplotlib\n",
    "import matplotlib.pyplot as plt\n",
    "import seaborn as sns\n",
    "%matplotlib inline\n",
    "\n",
    "import plotly.graph_objs as go\n",
    "from plotly.offline import init_notebook_mode, iplot, plot, download_plotlyjs\n",
    "\n",
    "import sklearn\n",
    "import matplotlib.dates as mdates"
   ]
  },
  {
   "cell_type": "code",
   "execution_count": 3,
   "metadata": {},
   "outputs": [],
   "source": [
    "matplotlib.style.use('ggplot')"
   ]
  },
  {
   "cell_type": "markdown",
   "metadata": {},
   "source": [
    "## Data Sampling"
   ]
  },
  {
   "cell_type": "markdown",
   "metadata": {},
   "source": [
    "As the data in quite large(~6gb) and the best way to handle this amount of data is to use cloud technologies like AWS. However, I am trying to handle this using single machine and unavailability of resources. The best approach to handle amount of data is **\"Random Sampling\"**"
   ]
  },
  {
   "cell_type": "code",
   "execution_count": 4,
   "metadata": {},
   "outputs": [],
   "source": [
    "\n",
    "n = 40428967 # total number of rows in the data\n",
    "\n",
    "sample_size = 1000000\n",
    "random.seed(101) ## for maintaining the seed state.\n",
    "skip_values = sorted(random.sample(range(1,n), n-sample_size))"
   ]
  },
  {
   "cell_type": "code",
   "execution_count": 6,
   "metadata": {},
   "outputs": [],
   "source": [
    "#To manipulate the date feature so it can further analyzed at the EDA stage\n",
    "parse_date = lambda date: pd.datetime.strptime(date, '%y%m%d%H')"
   ]
  },
  {
   "cell_type": "markdown",
   "metadata": {},
   "source": [
    "## Loading the Data"
   ]
  },
  {
   "cell_type": "code",
   "execution_count": 8,
   "metadata": {},
   "outputs": [],
   "source": [
    "from requirements import *\n",
    "# train_path = \"/Users/akash-mac/Desktop/My Docs/Self-Projects/Datasets/CTR Data/train\"\n",
    "train_data = pd.read_csv(train_path, \n",
    "                         parse_dates= ['hour'], \n",
    "                         date_parser=parse_date, \n",
    "                         skiprows=skip_values)"
   ]
  },
  {
   "cell_type": "code",
   "execution_count": 9,
   "metadata": {},
   "outputs": [
    {
     "name": "stdout",
     "output_type": "stream",
     "text": [
      "<class 'pandas.core.frame.DataFrame'>\n",
      "RangeIndex: 1000000 entries, 0 to 999999\n",
      "Data columns (total 24 columns):\n",
      "id                  1000000 non-null uint64\n",
      "click               1000000 non-null int64\n",
      "hour                1000000 non-null datetime64[ns]\n",
      "C1                  1000000 non-null int64\n",
      "banner_pos          1000000 non-null int64\n",
      "site_id             1000000 non-null object\n",
      "site_domain         1000000 non-null object\n",
      "site_category       1000000 non-null object\n",
      "app_id              1000000 non-null object\n",
      "app_domain          1000000 non-null object\n",
      "app_category        1000000 non-null object\n",
      "device_id           1000000 non-null object\n",
      "device_ip           1000000 non-null object\n",
      "device_model        1000000 non-null object\n",
      "device_type         1000000 non-null int64\n",
      "device_conn_type    1000000 non-null int64\n",
      "C14                 1000000 non-null int64\n",
      "C15                 1000000 non-null int64\n",
      "C16                 1000000 non-null int64\n",
      "C17                 1000000 non-null int64\n",
      "C18                 1000000 non-null int64\n",
      "C19                 1000000 non-null int64\n",
      "C20                 1000000 non-null int64\n",
      "C21                 1000000 non-null int64\n",
      "dtypes: datetime64[ns](1), int64(13), object(9), uint64(1)\n",
      "memory usage: 183.1+ MB\n"
     ]
    }
   ],
   "source": [
    "train_data.info()"
   ]
  },
  {
   "cell_type": "markdown",
   "metadata": {},
   "source": [
    "## Memory management and Optimization"
   ]
  },
  {
   "cell_type": "markdown",
   "metadata": {},
   "source": [
    "As we can see in the above cell, the memory usage is 183.1+ MB. Altering the data types from **int64** to **int32** will reduce the memory usage using **NumPy** "
   ]
  },
  {
   "cell_type": "code",
   "execution_count": 10,
   "metadata": {},
   "outputs": [],
   "source": [
    "data_types = {\n",
    "    'id': np.str,\n",
    "    'click': np.bool_,\n",
    "    'hour': np.str,\n",
    "    'C1': np.uint16,\n",
    "    'banner_pos': np.uint16,\n",
    "    'site_id': np.object,\n",
    "    'site_domain': np.object,\n",
    "    'site_category': np.object,\n",
    "    'app_id': np.object,\n",
    "    'app_domain': np.object,\n",
    "    'app_category': np.object,\n",
    "    'device_id': np.object,\n",
    "    'device_ip': np.object,\n",
    "    'device_model': np.object,\n",
    "    'device_type': np.uint16,\n",
    "    'device_conn_type': np.uint16,\n",
    "    'C14': np.uint16,\n",
    "    'C15': np.uint16,\n",
    "    'C16': np.uint16,\n",
    "    'C17': np.uint16,\n",
    "    'C18': np.uint16,\n",
    "    'C19': np.uint16,\n",
    "    'C20': np.uint16,\n",
    "    'C21': np.uint16\n",
    "}"
   ]
  },
  {
   "cell_type": "code",
   "execution_count": 11,
   "metadata": {},
   "outputs": [],
   "source": [
    "#Reloading the data with new data types\n",
    "train_data = pd.read_csv(train_path, \n",
    "                         parse_dates= ['hour'], \n",
    "                         date_parser=parse_date, \n",
    "                         skiprows=skip_values, \n",
    "                         dtype = data_types)"
   ]
  },
  {
   "cell_type": "code",
   "execution_count": 13,
   "metadata": {},
   "outputs": [
    {
     "name": "stdout",
     "output_type": "stream",
     "text": [
      "<class 'pandas.core.frame.DataFrame'>\n",
      "RangeIndex: 1000000 entries, 0 to 999999\n",
      "Data columns (total 24 columns):\n",
      "id                  1000000 non-null object\n",
      "click               1000000 non-null bool\n",
      "hour                1000000 non-null datetime64[ns]\n",
      "C1                  1000000 non-null uint16\n",
      "banner_pos          1000000 non-null uint16\n",
      "site_id             1000000 non-null object\n",
      "site_domain         1000000 non-null object\n",
      "site_category       1000000 non-null object\n",
      "app_id              1000000 non-null object\n",
      "app_domain          1000000 non-null object\n",
      "app_category        1000000 non-null object\n",
      "device_id           1000000 non-null object\n",
      "device_ip           1000000 non-null object\n",
      "device_model        1000000 non-null object\n",
      "device_type         1000000 non-null uint16\n",
      "device_conn_type    1000000 non-null uint16\n",
      "C14                 1000000 non-null uint16\n",
      "C15                 1000000 non-null uint16\n",
      "C16                 1000000 non-null uint16\n",
      "C17                 1000000 non-null uint16\n",
      "C18                 1000000 non-null uint16\n",
      "C19                 1000000 non-null uint16\n",
      "C20                 1000000 non-null uint16\n",
      "C21                 1000000 non-null uint16\n",
      "dtypes: bool(1), datetime64[ns](1), object(10), uint16(12)\n",
      "memory usage: 107.8+ MB\n"
     ]
    }
   ],
   "source": [
    "train_data.info()"
   ]
  },
  {
   "cell_type": "markdown",
   "metadata": {},
   "source": [
    "Memory usage decreased by 40% (107.8+ MB)"
   ]
  },
  {
   "cell_type": "markdown",
   "metadata": {},
   "source": [
    "## Exploratory Data Analysis"
   ]
  },
  {
   "cell_type": "code",
   "execution_count": 14,
   "metadata": {},
   "outputs": [
    {
     "data": {
      "text/html": [
       "<div>\n",
       "<style scoped>\n",
       "    .dataframe tbody tr th:only-of-type {\n",
       "        vertical-align: middle;\n",
       "    }\n",
       "\n",
       "    .dataframe tbody tr th {\n",
       "        vertical-align: top;\n",
       "    }\n",
       "\n",
       "    .dataframe thead th {\n",
       "        text-align: right;\n",
       "    }\n",
       "</style>\n",
       "<table border=\"1\" class=\"dataframe\">\n",
       "  <thead>\n",
       "    <tr style=\"text-align: right;\">\n",
       "      <th></th>\n",
       "      <th>id</th>\n",
       "      <th>click</th>\n",
       "      <th>hour</th>\n",
       "      <th>C1</th>\n",
       "      <th>banner_pos</th>\n",
       "      <th>site_id</th>\n",
       "      <th>site_domain</th>\n",
       "      <th>site_category</th>\n",
       "      <th>app_id</th>\n",
       "      <th>app_domain</th>\n",
       "      <th>...</th>\n",
       "      <th>device_type</th>\n",
       "      <th>device_conn_type</th>\n",
       "      <th>C14</th>\n",
       "      <th>C15</th>\n",
       "      <th>C16</th>\n",
       "      <th>C17</th>\n",
       "      <th>C18</th>\n",
       "      <th>C19</th>\n",
       "      <th>C20</th>\n",
       "      <th>C21</th>\n",
       "    </tr>\n",
       "  </thead>\n",
       "  <tbody>\n",
       "    <tr>\n",
       "      <th>0</th>\n",
       "      <td>10005249248600843539</td>\n",
       "      <td>False</td>\n",
       "      <td>2014-10-21</td>\n",
       "      <td>1005</td>\n",
       "      <td>0</td>\n",
       "      <td>1fbe01fe</td>\n",
       "      <td>f3845767</td>\n",
       "      <td>28905ebd</td>\n",
       "      <td>ecad2386</td>\n",
       "      <td>7801e8d9</td>\n",
       "      <td>...</td>\n",
       "      <td>1</td>\n",
       "      <td>0</td>\n",
       "      <td>15706</td>\n",
       "      <td>320</td>\n",
       "      <td>50</td>\n",
       "      <td>1722</td>\n",
       "      <td>0</td>\n",
       "      <td>35</td>\n",
       "      <td>34547</td>\n",
       "      <td>79</td>\n",
       "    </tr>\n",
       "    <tr>\n",
       "      <th>1</th>\n",
       "      <td>10007768440836622373</td>\n",
       "      <td>False</td>\n",
       "      <td>2014-10-21</td>\n",
       "      <td>1005</td>\n",
       "      <td>0</td>\n",
       "      <td>85f751fd</td>\n",
       "      <td>c4e18dd6</td>\n",
       "      <td>50e219e0</td>\n",
       "      <td>e2a1ca37</td>\n",
       "      <td>2347f47a</td>\n",
       "      <td>...</td>\n",
       "      <td>1</td>\n",
       "      <td>0</td>\n",
       "      <td>15708</td>\n",
       "      <td>320</td>\n",
       "      <td>50</td>\n",
       "      <td>1722</td>\n",
       "      <td>0</td>\n",
       "      <td>35</td>\n",
       "      <td>65535</td>\n",
       "      <td>79</td>\n",
       "    </tr>\n",
       "    <tr>\n",
       "      <th>2</th>\n",
       "      <td>10018563981679953217</td>\n",
       "      <td>False</td>\n",
       "      <td>2014-10-21</td>\n",
       "      <td>1005</td>\n",
       "      <td>0</td>\n",
       "      <td>85f751fd</td>\n",
       "      <td>c4e18dd6</td>\n",
       "      <td>50e219e0</td>\n",
       "      <td>8bfb92e0</td>\n",
       "      <td>7801e8d9</td>\n",
       "      <td>...</td>\n",
       "      <td>1</td>\n",
       "      <td>0</td>\n",
       "      <td>17661</td>\n",
       "      <td>320</td>\n",
       "      <td>50</td>\n",
       "      <td>1996</td>\n",
       "      <td>1</td>\n",
       "      <td>41</td>\n",
       "      <td>34521</td>\n",
       "      <td>71</td>\n",
       "    </tr>\n",
       "    <tr>\n",
       "      <th>3</th>\n",
       "      <td>10019805607671159208</td>\n",
       "      <td>False</td>\n",
       "      <td>2014-10-21</td>\n",
       "      <td>1002</td>\n",
       "      <td>0</td>\n",
       "      <td>84c7ba46</td>\n",
       "      <td>c4e18dd6</td>\n",
       "      <td>50e219e0</td>\n",
       "      <td>ecad2386</td>\n",
       "      <td>7801e8d9</td>\n",
       "      <td>...</td>\n",
       "      <td>0</td>\n",
       "      <td>0</td>\n",
       "      <td>21300</td>\n",
       "      <td>320</td>\n",
       "      <td>50</td>\n",
       "      <td>2446</td>\n",
       "      <td>3</td>\n",
       "      <td>171</td>\n",
       "      <td>34692</td>\n",
       "      <td>156</td>\n",
       "    </tr>\n",
       "    <tr>\n",
       "      <th>4</th>\n",
       "      <td>10020605367282200605</td>\n",
       "      <td>False</td>\n",
       "      <td>2014-10-21</td>\n",
       "      <td>1005</td>\n",
       "      <td>1</td>\n",
       "      <td>e151e245</td>\n",
       "      <td>7e091613</td>\n",
       "      <td>f028772b</td>\n",
       "      <td>ecad2386</td>\n",
       "      <td>7801e8d9</td>\n",
       "      <td>...</td>\n",
       "      <td>1</td>\n",
       "      <td>0</td>\n",
       "      <td>20359</td>\n",
       "      <td>216</td>\n",
       "      <td>36</td>\n",
       "      <td>2333</td>\n",
       "      <td>0</td>\n",
       "      <td>39</td>\n",
       "      <td>65535</td>\n",
       "      <td>157</td>\n",
       "    </tr>\n",
       "  </tbody>\n",
       "</table>\n",
       "<p>5 rows × 24 columns</p>\n",
       "</div>"
      ],
      "text/plain": [
       "                     id  click       hour    C1  banner_pos   site_id  \\\n",
       "0  10005249248600843539  False 2014-10-21  1005           0  1fbe01fe   \n",
       "1  10007768440836622373  False 2014-10-21  1005           0  85f751fd   \n",
       "2  10018563981679953217  False 2014-10-21  1005           0  85f751fd   \n",
       "3  10019805607671159208  False 2014-10-21  1002           0  84c7ba46   \n",
       "4  10020605367282200605  False 2014-10-21  1005           1  e151e245   \n",
       "\n",
       "  site_domain site_category    app_id app_domain ...  device_type  \\\n",
       "0    f3845767      28905ebd  ecad2386   7801e8d9 ...            1   \n",
       "1    c4e18dd6      50e219e0  e2a1ca37   2347f47a ...            1   \n",
       "2    c4e18dd6      50e219e0  8bfb92e0   7801e8d9 ...            1   \n",
       "3    c4e18dd6      50e219e0  ecad2386   7801e8d9 ...            0   \n",
       "4    7e091613      f028772b  ecad2386   7801e8d9 ...            1   \n",
       "\n",
       "  device_conn_type    C14  C15  C16   C17  C18  C19    C20  C21  \n",
       "0                0  15706  320   50  1722    0   35  34547   79  \n",
       "1                0  15708  320   50  1722    0   35  65535   79  \n",
       "2                0  17661  320   50  1996    1   41  34521   71  \n",
       "3                0  21300  320   50  2446    3  171  34692  156  \n",
       "4                0  20359  216   36  2333    0   39  65535  157  \n",
       "\n",
       "[5 rows x 24 columns]"
      ]
     },
     "execution_count": 14,
     "metadata": {},
     "output_type": "execute_result"
    }
   ],
   "source": [
    "train_data.head()"
   ]
  },
  {
   "cell_type": "code",
   "execution_count": 15,
   "metadata": {},
   "outputs": [
    {
     "data": {
      "text/html": [
       "<div>\n",
       "<style scoped>\n",
       "    .dataframe tbody tr th:only-of-type {\n",
       "        vertical-align: middle;\n",
       "    }\n",
       "\n",
       "    .dataframe tbody tr th {\n",
       "        vertical-align: top;\n",
       "    }\n",
       "\n",
       "    .dataframe thead th {\n",
       "        text-align: right;\n",
       "    }\n",
       "</style>\n",
       "<table border=\"1\" class=\"dataframe\">\n",
       "  <thead>\n",
       "    <tr style=\"text-align: right;\">\n",
       "      <th></th>\n",
       "      <th>C1</th>\n",
       "      <th>banner_pos</th>\n",
       "      <th>device_type</th>\n",
       "      <th>device_conn_type</th>\n",
       "      <th>C14</th>\n",
       "      <th>C15</th>\n",
       "      <th>C16</th>\n",
       "      <th>C17</th>\n",
       "      <th>C18</th>\n",
       "      <th>C19</th>\n",
       "      <th>C20</th>\n",
       "      <th>C21</th>\n",
       "    </tr>\n",
       "  </thead>\n",
       "  <tbody>\n",
       "    <tr>\n",
       "      <th>count</th>\n",
       "      <td>1000000.000000</td>\n",
       "      <td>1000000.000000</td>\n",
       "      <td>1000000.000000</td>\n",
       "      <td>1000000.000000</td>\n",
       "      <td>1000000.000000</td>\n",
       "      <td>1000000.000000</td>\n",
       "      <td>1000000.000000</td>\n",
       "      <td>1000000.000000</td>\n",
       "      <td>1000000.000000</td>\n",
       "      <td>1000000.000000</td>\n",
       "      <td>1000000.000000</td>\n",
       "      <td>1000000.000000</td>\n",
       "    </tr>\n",
       "    <tr>\n",
       "      <th>mean</th>\n",
       "      <td>1004.967288</td>\n",
       "      <td>0.287654</td>\n",
       "      <td>1.015138</td>\n",
       "      <td>0.331862</td>\n",
       "      <td>18846.665442</td>\n",
       "      <td>318.885044</td>\n",
       "      <td>60.099810</td>\n",
       "      <td>2113.138773</td>\n",
       "      <td>1.433999</td>\n",
       "      <td>227.073758</td>\n",
       "      <td>49074.132254</td>\n",
       "      <td>83.371591</td>\n",
       "    </tr>\n",
       "    <tr>\n",
       "      <th>std</th>\n",
       "      <td>1.097501</td>\n",
       "      <td>0.506580</td>\n",
       "      <td>0.528376</td>\n",
       "      <td>0.855389</td>\n",
       "      <td>4953.132982</td>\n",
       "      <td>21.502397</td>\n",
       "      <td>47.209081</td>\n",
       "      <td>608.925941</td>\n",
       "      <td>1.326595</td>\n",
       "      <td>350.678109</td>\n",
       "      <td>15448.163156</td>\n",
       "      <td>70.270973</td>\n",
       "    </tr>\n",
       "    <tr>\n",
       "      <th>min</th>\n",
       "      <td>1001.000000</td>\n",
       "      <td>0.000000</td>\n",
       "      <td>0.000000</td>\n",
       "      <td>0.000000</td>\n",
       "      <td>375.000000</td>\n",
       "      <td>120.000000</td>\n",
       "      <td>20.000000</td>\n",
       "      <td>112.000000</td>\n",
       "      <td>0.000000</td>\n",
       "      <td>33.000000</td>\n",
       "      <td>34464.000000</td>\n",
       "      <td>1.000000</td>\n",
       "    </tr>\n",
       "    <tr>\n",
       "      <th>25%</th>\n",
       "      <td>1005.000000</td>\n",
       "      <td>0.000000</td>\n",
       "      <td>1.000000</td>\n",
       "      <td>0.000000</td>\n",
       "      <td>16920.000000</td>\n",
       "      <td>320.000000</td>\n",
       "      <td>50.000000</td>\n",
       "      <td>1863.000000</td>\n",
       "      <td>0.000000</td>\n",
       "      <td>35.000000</td>\n",
       "      <td>34548.000000</td>\n",
       "      <td>23.000000</td>\n",
       "    </tr>\n",
       "    <tr>\n",
       "      <th>50%</th>\n",
       "      <td>1005.000000</td>\n",
       "      <td>0.000000</td>\n",
       "      <td>1.000000</td>\n",
       "      <td>0.000000</td>\n",
       "      <td>20346.000000</td>\n",
       "      <td>320.000000</td>\n",
       "      <td>50.000000</td>\n",
       "      <td>2323.000000</td>\n",
       "      <td>2.000000</td>\n",
       "      <td>39.000000</td>\n",
       "      <td>34657.000000</td>\n",
       "      <td>61.000000</td>\n",
       "    </tr>\n",
       "    <tr>\n",
       "      <th>75%</th>\n",
       "      <td>1005.000000</td>\n",
       "      <td>1.000000</td>\n",
       "      <td>1.000000</td>\n",
       "      <td>0.000000</td>\n",
       "      <td>21894.000000</td>\n",
       "      <td>320.000000</td>\n",
       "      <td>50.000000</td>\n",
       "      <td>2526.000000</td>\n",
       "      <td>3.000000</td>\n",
       "      <td>171.000000</td>\n",
       "      <td>65535.000000</td>\n",
       "      <td>101.000000</td>\n",
       "    </tr>\n",
       "    <tr>\n",
       "      <th>max</th>\n",
       "      <td>1012.000000</td>\n",
       "      <td>7.000000</td>\n",
       "      <td>5.000000</td>\n",
       "      <td>5.000000</td>\n",
       "      <td>24052.000000</td>\n",
       "      <td>1024.000000</td>\n",
       "      <td>1024.000000</td>\n",
       "      <td>2758.000000</td>\n",
       "      <td>3.000000</td>\n",
       "      <td>1839.000000</td>\n",
       "      <td>65535.000000</td>\n",
       "      <td>255.000000</td>\n",
       "    </tr>\n",
       "  </tbody>\n",
       "</table>\n",
       "</div>"
      ],
      "text/plain": [
       "                   C1      banner_pos     device_type  device_conn_type  \\\n",
       "count  1000000.000000  1000000.000000  1000000.000000    1000000.000000   \n",
       "mean      1004.967288        0.287654        1.015138          0.331862   \n",
       "std          1.097501        0.506580        0.528376          0.855389   \n",
       "min       1001.000000        0.000000        0.000000          0.000000   \n",
       "25%       1005.000000        0.000000        1.000000          0.000000   \n",
       "50%       1005.000000        0.000000        1.000000          0.000000   \n",
       "75%       1005.000000        1.000000        1.000000          0.000000   \n",
       "max       1012.000000        7.000000        5.000000          5.000000   \n",
       "\n",
       "                  C14             C15             C16             C17  \\\n",
       "count  1000000.000000  1000000.000000  1000000.000000  1000000.000000   \n",
       "mean     18846.665442      318.885044       60.099810     2113.138773   \n",
       "std       4953.132982       21.502397       47.209081      608.925941   \n",
       "min        375.000000      120.000000       20.000000      112.000000   \n",
       "25%      16920.000000      320.000000       50.000000     1863.000000   \n",
       "50%      20346.000000      320.000000       50.000000     2323.000000   \n",
       "75%      21894.000000      320.000000       50.000000     2526.000000   \n",
       "max      24052.000000     1024.000000     1024.000000     2758.000000   \n",
       "\n",
       "                  C18             C19             C20             C21  \n",
       "count  1000000.000000  1000000.000000  1000000.000000  1000000.000000  \n",
       "mean         1.433999      227.073758    49074.132254       83.371591  \n",
       "std          1.326595      350.678109    15448.163156       70.270973  \n",
       "min          0.000000       33.000000    34464.000000        1.000000  \n",
       "25%          0.000000       35.000000    34548.000000       23.000000  \n",
       "50%          2.000000       39.000000    34657.000000       61.000000  \n",
       "75%          3.000000      171.000000    65535.000000      101.000000  \n",
       "max          3.000000     1839.000000    65535.000000      255.000000  "
      ]
     },
     "execution_count": 15,
     "metadata": {},
     "output_type": "execute_result"
    }
   ],
   "source": [
    "train_data.describe()"
   ]
  },
  {
   "cell_type": "markdown",
   "metadata": {},
   "source": [
    "### CTR - Click vs. No Click distribution"
   ]
  },
  {
   "cell_type": "code",
   "execution_count": 23,
   "metadata": {},
   "outputs": [
    {
     "name": "stdout",
     "output_type": "stream",
     "text": [
      "(%) of Clicked vs. Not Clicked\n",
      "\n",
      "False    83.0383\n",
      "True     16.9617\n",
      "Name: click, dtype: float64\n"
     ]
    },
    {
     "data": {
      "image/png": "[encoded data removed]",
      "text/plain": [
       "<matplotlib.figure.Figure at 0x1c206622b0>"
      ]
     },
     "metadata": {},
     "output_type": "display_data"
    }
   ],
   "source": [
    "sns.countplot(x='click', data=train_data, palette='hls')\n",
    "print(\"(%) of Clicked vs. Not Clicked\\n\")\n",
    "print(train_data['click'].value_counts()*100/sample_size)"
   ]
  },
  {
   "cell_type": "markdown",
   "metadata": {},
   "source": [
    "Click Through Rate for this sampled data is approx 17%, while the 83% did not clicked."
   ]
  },
  {
   "cell_type": "markdown",
   "metadata": {},
   "source": [
    "Let us check for the number of hours of total days of the data we have i.e. **10 day** i.e. **240 hours**"
   ]
  },
  {
   "cell_type": "code",
   "execution_count": 29,
   "metadata": {},
   "outputs": [
    {
     "data": {
      "text/plain": [
       "Text(0.5,1,'Number of clicks by hour')"
      ]
     },
     "execution_count": 29,
     "metadata": {},
     "output_type": "execute_result"
    },
    {
     "data": {
      "image/png": "[encoded data removed]",
      "text/plain": [
       "<matplotlib.figure.Figure at 0x1c28af89e8>"
      ]
     },
     "metadata": {},
     "output_type": "display_data"
    }
   ],
   "source": [
    "train_data.groupby('hour').agg({'click':'sum'}).plot(figsize = (8,5))\n",
    "plt.ylabel('Number of clicks')\n",
    "plt.title('Number of clicks by hour')"
   ]
  },
  {
   "cell_type": "markdown",
   "metadata": {},
   "source": [
    "The pattern looks pretty similar for all the 10 days. However, there are peaks between 22nd-23rd day and 28th-29th day. The lowest peak has be between 24th and 25th day."
   ]
  },
  {
   "cell_type": "markdown",
   "metadata": {},
   "source": [
    "### Breaking down date time feature and extracting hours"
   ]
  },
  {
   "cell_type": "markdown",
   "metadata": {},
   "source": [
    "#### Hours"
   ]
  },
  {
   "cell_type": "code",
   "execution_count": 30,
   "metadata": {},
   "outputs": [
    {
     "data": {
      "text/plain": [
       "Text(0.5,1,'click trends by hour of day')"
      ]
     },
     "execution_count": 30,
     "metadata": {},
     "output_type": "execute_result"
    },
    {
     "data": {
      "image/png": "[encoded data removed]",
      "text/plain": [
       "<matplotlib.figure.Figure at 0x1c29df7ac8>"
      ]
     },
     "metadata": {},
     "output_type": "display_data"
    }
   ],
   "source": [
    "train_data['hour_of_day']=train_data.hour.apply(lambda x: x.hour)\n",
    "train_data.groupby('hour_of_day').agg({'click':'sum'}).plot(figsize=(8,5))\n",
    "plt.ylabel('Number of clicks')\n",
    "plt.title('click trends by hour of day')"
   ]
  },
  {
   "cell_type": "markdown",
   "metadata": {},
   "source": [
    "Observing the above plot, it can be seen that the highest number of ads have been clicked in the afternoon time i.e. between the 13th and 14th hour (1pm-2pm). The least were at the 0th hour (mid night). Just to compare clicks vs. not clicks we can see the impressions in the below plot"
   ]
  },
  {
   "cell_type": "code",
   "execution_count": 41,
   "metadata": {},
   "outputs": [
    {
     "data": {
      "text/plain": [
       "Text(0.5,1,'Hourly impressions vs. clicks')"
      ]
     },
     "execution_count": 41,
     "metadata": {},
     "output_type": "execute_result"
    },
    {
     "data": {
      "image/png": "[encoded data removed]",
      "text/plain": [
       "<matplotlib.figure.Figure at 0x1c2ab505f8>"
      ]
     },
     "metadata": {},
     "output_type": "display_data"
    }
   ],
   "source": [
    "train_data.groupby(['hour_of_day', 'click']).size().unstack().plot(kind = 'bar', figsize = (8,5))\n",
    "plt.ylabel('count')\n",
    "plt.title('Hourly impressions vs. clicks')"
   ]
  },
  {
   "cell_type": "markdown",
   "metadata": {},
   "source": [
    "### Calculating CTR using Impressions and Clicks"
   ]
  },
  {
   "cell_type": "markdown",
   "metadata": {},
   "source": [
    "#### CTR - Hourly"
   ]
  },
  {
   "cell_type": "code",
   "execution_count": 63,
   "metadata": {},
   "outputs": [],
   "source": [
    "df_click = train_data[train_data['click']==1]"
   ]
  },
  {
   "cell_type": "code",
   "execution_count": 64,
   "metadata": {},
   "outputs": [],
   "source": [
    "df_hour = train_data[['hour_of_day', 'click']].groupby(['hour_of_day']).count().reset_index()"
   ]
  },
  {
   "cell_type": "code",
   "execution_count": 65,
   "metadata": {},
   "outputs": [],
   "source": [
    "df_hour = df_hour.rename(columns={'click':'impressions'})"
   ]
  },
  {
   "cell_type": "code",
   "execution_count": 66,
   "metadata": {},
   "outputs": [],
   "source": [
    "df_hour['click'] = df_click[['hour_of_day','click']].groupby(['hour_of_day']).count().reset_index()['click']"
   ]
  },
  {
   "cell_type": "code",
   "execution_count": 67,
   "metadata": {},
   "outputs": [],
   "source": [
    "df_hour['CTR'] = df_hour['click']*100/df_hour['impressions']"
   ]
  },
  {
   "cell_type": "markdown",
   "metadata": {},
   "source": [
    "Plotting the Hourly CTR"
   ]
  },
  {
   "cell_type": "code",
   "execution_count": 73,
   "metadata": {},
   "outputs": [
    {
     "data": {
      "text/html": [
       "<div>\n",
       "<style scoped>\n",
       "    .dataframe tbody tr th:only-of-type {\n",
       "        vertical-align: middle;\n",
       "    }\n",
       "\n",
       "    .dataframe tbody tr th {\n",
       "        vertical-align: top;\n",
       "    }\n",
       "\n",
       "    .dataframe thead th {\n",
       "        text-align: right;\n",
       "    }\n",
       "</style>\n",
       "<table border=\"1\" class=\"dataframe\">\n",
       "  <thead>\n",
       "    <tr style=\"text-align: right;\">\n",
       "      <th></th>\n",
       "      <th>hour_of_day</th>\n",
       "      <th>impressions</th>\n",
       "      <th>click</th>\n",
       "      <th>CTR</th>\n",
       "    </tr>\n",
       "  </thead>\n",
       "  <tbody>\n",
       "    <tr>\n",
       "      <th>0</th>\n",
       "      <td>0</td>\n",
       "      <td>21033</td>\n",
       "      <td>3805</td>\n",
       "      <td>18.090620</td>\n",
       "    </tr>\n",
       "    <tr>\n",
       "      <th>1</th>\n",
       "      <td>1</td>\n",
       "      <td>24113</td>\n",
       "      <td>4430</td>\n",
       "      <td>18.371833</td>\n",
       "    </tr>\n",
       "    <tr>\n",
       "      <th>2</th>\n",
       "      <td>2</td>\n",
       "      <td>30422</td>\n",
       "      <td>5419</td>\n",
       "      <td>17.812767</td>\n",
       "    </tr>\n",
       "    <tr>\n",
       "      <th>3</th>\n",
       "      <td>3</td>\n",
       "      <td>34761</td>\n",
       "      <td>6091</td>\n",
       "      <td>17.522511</td>\n",
       "    </tr>\n",
       "    <tr>\n",
       "      <th>4</th>\n",
       "      <td>4</td>\n",
       "      <td>47116</td>\n",
       "      <td>7446</td>\n",
       "      <td>15.803549</td>\n",
       "    </tr>\n",
       "  </tbody>\n",
       "</table>\n",
       "</div>"
      ],
      "text/plain": [
       "   hour_of_day  impressions  click        CTR\n",
       "0            0        21033   3805  18.090620\n",
       "1            1        24113   4430  18.371833\n",
       "2            2        30422   5419  17.812767\n",
       "3            3        34761   6091  17.522511\n",
       "4            4        47116   7446  15.803549"
      ]
     },
     "execution_count": 73,
     "metadata": {},
     "output_type": "execute_result"
    }
   ],
   "source": [
    "df_hour.head()"
   ]
  },
  {
   "cell_type": "code",
   "execution_count": 69,
   "metadata": {},
   "outputs": [
    {
     "data": {
      "text/plain": [
       "Text(0.5,1,'CTR - Hourly')"
      ]
     },
     "execution_count": 69,
     "metadata": {},
     "output_type": "execute_result"
    },
    {
     "data": {
      "image/png": "[encoded data removed]",
      "text/plain": [
       "<matplotlib.figure.Figure at 0x1c2a9cc5f8>"
      ]
     },
     "metadata": {},
     "output_type": "display_data"
    }
   ],
   "source": [
    "plt.figure(figsize=(8,5))\n",
    "sns.barplot(x='hour_of_day',y='CTR', data=df_hour, palette=)\n",
    "plt.title('CTR - Hourly')"
   ]
  },
  {
   "cell_type": "markdown",
   "metadata": {},
   "source": [
    "Here we can observe that the CTR for the mid night hours is higher compared to their clicks and impressions."
   ]
  },
  {
   "cell_type": "markdown",
   "metadata": {},
   "source": [
    "#### Day of Week"
   ]
  },
  {
   "cell_type": "code",
   "execution_count": 78,
   "metadata": {},
   "outputs": [],
   "source": [
    "train_data['day_of_week'] = train_data['hour'].apply(lambda val: val.weekday_name)"
   ]
  },
  {
   "cell_type": "code",
   "execution_count": 81,
   "metadata": {},
   "outputs": [
    {
     "data": {
      "text/html": [
       "<div>\n",
       "<style scoped>\n",
       "    .dataframe tbody tr th:only-of-type {\n",
       "        vertical-align: middle;\n",
       "    }\n",
       "\n",
       "    .dataframe tbody tr th {\n",
       "        vertical-align: top;\n",
       "    }\n",
       "\n",
       "    .dataframe thead th {\n",
       "        text-align: right;\n",
       "    }\n",
       "</style>\n",
       "<table border=\"1\" class=\"dataframe\">\n",
       "  <thead>\n",
       "    <tr style=\"text-align: right;\">\n",
       "      <th></th>\n",
       "      <th>click</th>\n",
       "    </tr>\n",
       "    <tr>\n",
       "      <th>day_of_week</th>\n",
       "      <th></th>\n",
       "    </tr>\n",
       "  </thead>\n",
       "  <tbody>\n",
       "    <tr>\n",
       "      <th>Friday</th>\n",
       "      <td>82589</td>\n",
       "    </tr>\n",
       "    <tr>\n",
       "      <th>Monday</th>\n",
       "      <td>80000</td>\n",
       "    </tr>\n",
       "    <tr>\n",
       "      <th>Saturday</th>\n",
       "      <td>82935</td>\n",
       "    </tr>\n",
       "    <tr>\n",
       "      <th>Sunday</th>\n",
       "      <td>94948</td>\n",
       "    </tr>\n",
       "    <tr>\n",
       "      <th>Thursday</th>\n",
       "      <td>200192</td>\n",
       "    </tr>\n",
       "    <tr>\n",
       "      <th>Tuesday</th>\n",
       "      <td>231685</td>\n",
       "    </tr>\n",
       "    <tr>\n",
       "      <th>Wednesday</th>\n",
       "      <td>227651</td>\n",
       "    </tr>\n",
       "  </tbody>\n",
       "</table>\n",
       "</div>"
      ],
      "text/plain": [
       "              click\n",
       "day_of_week        \n",
       "Friday        82589\n",
       "Monday        80000\n",
       "Saturday      82935\n",
       "Sunday        94948\n",
       "Thursday     200192\n",
       "Tuesday      231685\n",
       "Wednesday    227651"
      ]
     },
     "execution_count": 81,
     "metadata": {},
     "output_type": "execute_result"
    }
   ],
   "source": [
    "train_data[['day_of_week', 'click']].groupby(['day_of_week']).count()"
   ]
  },
  {
   "cell_type": "code",
   "execution_count": null,
   "metadata": {},
   "outputs": [],
   "source": []
  }
 ],
 "metadata": {
  "kernelspec": {
   "display_name": "Python 3",
   "language": "python",
   "name": "python3"
  },
  "language_info": {
   "codemirror_mode": {
    "name": "ipython",
    "version": 3
   },
   "file_extension": ".py",
   "mimetype": "text/x-python",
   "name": "python",
   "nbconvert_exporter": "python",
   "pygments_lexer": "ipython3",
   "version": "3.6.8"
  }
 },
 "nbformat": 4,
 "nbformat_minor": 2
}
