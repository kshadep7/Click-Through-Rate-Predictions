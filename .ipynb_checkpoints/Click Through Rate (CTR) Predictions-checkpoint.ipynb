{
 "cells": [
  {
   "cell_type": "markdown",
   "metadata": {},
   "source": [
    "# CTR Prediction on Ad data provided by Avazu"
   ]
  },
  {
   "cell_type": "markdown",
   "metadata": {},
   "source": [
    "## Importing neccesary libraries"
   ]
  },
  {
   "cell_type": "code",
   "execution_count": 2,
   "metadata": {},
   "outputs": [],
   "source": [
    "import pandas as pd\n",
    "import numpy as np\n",
    "import dask.dataframe as dask # used for in-memory large compution on a single machine\n",
    "import random\n",
    "\n",
    "#for visualization\n",
    "import matplotlib\n",
    "import matplotlib.pyplot as plt\n",
    "import seaborn as sns\n",
    "%matplotlib inline\n",
    "\n",
    "import plotly.graph_objs as go\n",
    "from plotly.offline import init_notebook_mode, iplot, plot, download_plotlyjs\n",
    "\n",
    "import sklearn\n",
    "import matplotlib.dates as mdates"
   ]
  },
  {
   "cell_type": "code",
   "execution_count": 3,
   "metadata": {},
   "outputs": [],
   "source": [
    "matplotlib.style.use('ggplot')"
   ]
  },
  {
   "cell_type": "markdown",
   "metadata": {},
   "source": [
    "## Data Sampling"
   ]
  },
  {
   "cell_type": "markdown",
   "metadata": {},
   "source": [
    "As the data in quite large(~6gb) and the best way to handle this amount of data is to use cloud technologies like AWS. However, I am trying to handle this using single machine and unavailability of resources. The best approach to handle amount of data is **\"Random Sampling\"**"
   ]
  },
  {
   "cell_type": "code",
   "execution_count": 4,
   "metadata": {},
   "outputs": [],
   "source": [
    "\n",
    "n = 40428967 # total number of rows in the data\n",
    "\n",
    "sample_size = 1000000\n",
    "random.seed(101) ## for maintaining the seed state.\n",
    "skip_values = sorted(random.sample(range(1,n), n-sample_size))"
   ]
  },
  {
   "cell_type": "code",
   "execution_count": 5,
   "metadata": {},
   "outputs": [],
   "source": [
    "#To manipulate the date feature so it can further analyzed at the EDA stage\n",
    "parse_date = lambda date: pd.datetime.strptime(date, '%y%m%d%H')"
   ]
  },
  {
   "cell_type": "markdown",
   "metadata": {},
   "source": [
    "## Loading the Data"
   ]
  },
  {
   "cell_type": "code",
   "execution_count": 6,
   "metadata": {},
   "outputs": [],
   "source": [
    "from requirements import *\n",
    "# train_path = \"/Users/akash-mac/Desktop/My Docs/Self-Projects/Datasets/CTR Data/train\"\n",
    "train_data = pd.read_csv(train_path, \n",
    "                         parse_dates= ['hour'], \n",
    "                         date_parser=parse_date, \n",
    "                         skiprows=skip_values)"
   ]
  },
  {
   "cell_type": "code",
   "execution_count": 7,
   "metadata": {},
   "outputs": [
    {
     "name": "stdout",
     "output_type": "stream",
     "text": [
      "<class 'pandas.core.frame.DataFrame'>\n",
      "RangeIndex: 1000000 entries, 0 to 999999\n",
      "Data columns (total 24 columns):\n",
      "id                  1000000 non-null uint64\n",
      "click               1000000 non-null int64\n",
      "hour                1000000 non-null datetime64[ns]\n",
      "C1                  1000000 non-null int64\n",
      "banner_pos          1000000 non-null int64\n",
      "site_id             1000000 non-null object\n",
      "site_domain         1000000 non-null object\n",
      "site_category       1000000 non-null object\n",
      "app_id              1000000 non-null object\n",
      "app_domain          1000000 non-null object\n",
      "app_category        1000000 non-null object\n",
      "device_id           1000000 non-null object\n",
      "device_ip           1000000 non-null object\n",
      "device_model        1000000 non-null object\n",
      "device_type         1000000 non-null int64\n",
      "device_conn_type    1000000 non-null int64\n",
      "C14                 1000000 non-null int64\n",
      "C15                 1000000 non-null int64\n",
      "C16                 1000000 non-null int64\n",
      "C17                 1000000 non-null int64\n",
      "C18                 1000000 non-null int64\n",
      "C19                 1000000 non-null int64\n",
      "C20                 1000000 non-null int64\n",
      "C21                 1000000 non-null int64\n",
      "dtypes: datetime64[ns](1), int64(13), object(9), uint64(1)\n",
      "memory usage: 183.1+ MB\n"
     ]
    }
   ],
   "source": [
    "train_data.info()"
   ]
  },
  {
   "cell_type": "markdown",
   "metadata": {},
   "source": [
    "## Memory management and Optimization"
   ]
  },
  {
   "cell_type": "markdown",
   "metadata": {},
   "source": [
    "As we can see in the above cell, the memory usage is 183.1+ MB. Altering the data types from **int64** to **int32** will reduce the memory usage using **NumPy** "
   ]
  },
  {
   "cell_type": "code",
   "execution_count": 8,
   "metadata": {},
   "outputs": [],
   "source": [
    "data_types = {\n",
    "    'id': np.str,\n",
    "    'click': np.bool_,\n",
    "    'hour': np.str,\n",
    "    'C1': np.uint16,\n",
    "    'banner_pos': np.uint16,\n",
    "    'site_id': np.object,\n",
    "    'site_domain': np.object,\n",
    "    'site_category': np.object,\n",
    "    'app_id': np.object,\n",
    "    'app_domain': np.object,\n",
    "    'app_category': np.object,\n",
    "    'device_id': np.object,\n",
    "    'device_ip': np.object,\n",
    "    'device_model': np.object,\n",
    "    'device_type': np.uint16,\n",
    "    'device_conn_type': np.uint16,\n",
    "    'C14': np.uint16,\n",
    "    'C15': np.uint16,\n",
    "    'C16': np.uint16,\n",
    "    'C17': np.uint16,\n",
    "    'C18': np.uint16,\n",
    "    'C19': np.uint16,\n",
    "    'C20': np.uint16,\n",
    "    'C21': np.uint16\n",
    "}"
   ]
  },
  {
   "cell_type": "code",
   "execution_count": 9,
   "metadata": {},
   "outputs": [],
   "source": [
    "#Reloading the data with new data types\n",
    "train_data = pd.read_csv(train_path, \n",
    "                         parse_dates= ['hour'], \n",
    "                         date_parser=parse_date, \n",
    "                         skiprows=skip_values, \n",
    "                         dtype = data_types)"
   ]
  },
  {
   "cell_type": "code",
   "execution_count": 10,
   "metadata": {},
   "outputs": [
    {
     "name": "stdout",
     "output_type": "stream",
     "text": [
      "<class 'pandas.core.frame.DataFrame'>\n",
      "RangeIndex: 1000000 entries, 0 to 999999\n",
      "Data columns (total 24 columns):\n",
      "id                  1000000 non-null object\n",
      "click               1000000 non-null bool\n",
      "hour                1000000 non-null datetime64[ns]\n",
      "C1                  1000000 non-null uint16\n",
      "banner_pos          1000000 non-null uint16\n",
      "site_id             1000000 non-null object\n",
      "site_domain         1000000 non-null object\n",
      "site_category       1000000 non-null object\n",
      "app_id              1000000 non-null object\n",
      "app_domain          1000000 non-null object\n",
      "app_category        1000000 non-null object\n",
      "device_id           1000000 non-null object\n",
      "device_ip           1000000 non-null object\n",
      "device_model        1000000 non-null object\n",
      "device_type         1000000 non-null uint16\n",
      "device_conn_type    1000000 non-null uint16\n",
      "C14                 1000000 non-null uint16\n",
      "C15                 1000000 non-null uint16\n",
      "C16                 1000000 non-null uint16\n",
      "C17                 1000000 non-null uint16\n",
      "C18                 1000000 non-null uint16\n",
      "C19                 1000000 non-null uint16\n",
      "C20                 1000000 non-null uint16\n",
      "C21                 1000000 non-null uint16\n",
      "dtypes: bool(1), datetime64[ns](1), object(10), uint16(12)\n",
      "memory usage: 107.8+ MB\n"
     ]
    }
   ],
   "source": [
    "train_data.info()"
   ]
  },
  {
   "cell_type": "markdown",
   "metadata": {},
   "source": [
    "Memory usage decreased by 40% (107.8+ MB)"
   ]
  },
  {
   "cell_type": "markdown",
   "metadata": {},
   "source": [
    "## Exploratory Data Analysis"
   ]
  },
  {
   "cell_type": "code",
   "execution_count": 11,
   "metadata": {},
   "outputs": [
    {
     "data": {
      "text/html": [
       "<div>\n",
       "<style scoped>\n",
       "    .dataframe tbody tr th:only-of-type {\n",
       "        vertical-align: middle;\n",
       "    }\n",
       "\n",
       "    .dataframe tbody tr th {\n",
       "        vertical-align: top;\n",
       "    }\n",
       "\n",
       "    .dataframe thead th {\n",
       "        text-align: right;\n",
       "    }\n",
       "</style>\n",
       "<table border=\"1\" class=\"dataframe\">\n",
       "  <thead>\n",
       "    <tr style=\"text-align: right;\">\n",
       "      <th></th>\n",
       "      <th>id</th>\n",
       "      <th>click</th>\n",
       "      <th>hour</th>\n",
       "      <th>C1</th>\n",
       "      <th>banner_pos</th>\n",
       "      <th>site_id</th>\n",
       "      <th>site_domain</th>\n",
       "      <th>site_category</th>\n",
       "      <th>app_id</th>\n",
       "      <th>app_domain</th>\n",
       "      <th>...</th>\n",
       "      <th>device_type</th>\n",
       "      <th>device_conn_type</th>\n",
       "      <th>C14</th>\n",
       "      <th>C15</th>\n",
       "      <th>C16</th>\n",
       "      <th>C17</th>\n",
       "      <th>C18</th>\n",
       "      <th>C19</th>\n",
       "      <th>C20</th>\n",
       "      <th>C21</th>\n",
       "    </tr>\n",
       "  </thead>\n",
       "  <tbody>\n",
       "    <tr>\n",
       "      <th>0</th>\n",
       "      <td>10014026899633599058</td>\n",
       "      <td>False</td>\n",
       "      <td>2014-10-21</td>\n",
       "      <td>1005</td>\n",
       "      <td>0</td>\n",
       "      <td>1fbe01fe</td>\n",
       "      <td>f3845767</td>\n",
       "      <td>28905ebd</td>\n",
       "      <td>ecad2386</td>\n",
       "      <td>7801e8d9</td>\n",
       "      <td>...</td>\n",
       "      <td>1</td>\n",
       "      <td>0</td>\n",
       "      <td>15699</td>\n",
       "      <td>320</td>\n",
       "      <td>50</td>\n",
       "      <td>1722</td>\n",
       "      <td>0</td>\n",
       "      <td>35</td>\n",
       "      <td>34548</td>\n",
       "      <td>79</td>\n",
       "    </tr>\n",
       "    <tr>\n",
       "      <th>1</th>\n",
       "      <td>10036789730923212176</td>\n",
       "      <td>True</td>\n",
       "      <td>2014-10-21</td>\n",
       "      <td>1005</td>\n",
       "      <td>0</td>\n",
       "      <td>1fbe01fe</td>\n",
       "      <td>f3845767</td>\n",
       "      <td>28905ebd</td>\n",
       "      <td>ecad2386</td>\n",
       "      <td>7801e8d9</td>\n",
       "      <td>...</td>\n",
       "      <td>1</td>\n",
       "      <td>2</td>\n",
       "      <td>15703</td>\n",
       "      <td>320</td>\n",
       "      <td>50</td>\n",
       "      <td>1722</td>\n",
       "      <td>0</td>\n",
       "      <td>35</td>\n",
       "      <td>65535</td>\n",
       "      <td>79</td>\n",
       "    </tr>\n",
       "    <tr>\n",
       "      <th>2</th>\n",
       "      <td>10045883484838411177</td>\n",
       "      <td>True</td>\n",
       "      <td>2014-10-21</td>\n",
       "      <td>1005</td>\n",
       "      <td>1</td>\n",
       "      <td>e151e245</td>\n",
       "      <td>7e091613</td>\n",
       "      <td>f028772b</td>\n",
       "      <td>ecad2386</td>\n",
       "      <td>7801e8d9</td>\n",
       "      <td>...</td>\n",
       "      <td>1</td>\n",
       "      <td>0</td>\n",
       "      <td>20632</td>\n",
       "      <td>320</td>\n",
       "      <td>50</td>\n",
       "      <td>2374</td>\n",
       "      <td>3</td>\n",
       "      <td>39</td>\n",
       "      <td>65535</td>\n",
       "      <td>23</td>\n",
       "    </tr>\n",
       "    <tr>\n",
       "      <th>3</th>\n",
       "      <td>10054765563239787314</td>\n",
       "      <td>False</td>\n",
       "      <td>2014-10-21</td>\n",
       "      <td>1005</td>\n",
       "      <td>0</td>\n",
       "      <td>1fbe01fe</td>\n",
       "      <td>f3845767</td>\n",
       "      <td>28905ebd</td>\n",
       "      <td>ecad2386</td>\n",
       "      <td>7801e8d9</td>\n",
       "      <td>...</td>\n",
       "      <td>1</td>\n",
       "      <td>0</td>\n",
       "      <td>15701</td>\n",
       "      <td>320</td>\n",
       "      <td>50</td>\n",
       "      <td>1722</td>\n",
       "      <td>0</td>\n",
       "      <td>35</td>\n",
       "      <td>65535</td>\n",
       "      <td>79</td>\n",
       "    </tr>\n",
       "    <tr>\n",
       "      <th>4</th>\n",
       "      <td>10060080737601186118</td>\n",
       "      <td>False</td>\n",
       "      <td>2014-10-21</td>\n",
       "      <td>1005</td>\n",
       "      <td>0</td>\n",
       "      <td>1fbe01fe</td>\n",
       "      <td>f3845767</td>\n",
       "      <td>28905ebd</td>\n",
       "      <td>ecad2386</td>\n",
       "      <td>7801e8d9</td>\n",
       "      <td>...</td>\n",
       "      <td>1</td>\n",
       "      <td>0</td>\n",
       "      <td>15701</td>\n",
       "      <td>320</td>\n",
       "      <td>50</td>\n",
       "      <td>1722</td>\n",
       "      <td>0</td>\n",
       "      <td>35</td>\n",
       "      <td>34548</td>\n",
       "      <td>79</td>\n",
       "    </tr>\n",
       "  </tbody>\n",
       "</table>\n",
       "<p>5 rows × 24 columns</p>\n",
       "</div>"
      ],
      "text/plain": [
       "                     id  click       hour    C1  banner_pos   site_id  \\\n",
       "0  10014026899633599058  False 2014-10-21  1005           0  1fbe01fe   \n",
       "1  10036789730923212176   True 2014-10-21  1005           0  1fbe01fe   \n",
       "2  10045883484838411177   True 2014-10-21  1005           1  e151e245   \n",
       "3  10054765563239787314  False 2014-10-21  1005           0  1fbe01fe   \n",
       "4  10060080737601186118  False 2014-10-21  1005           0  1fbe01fe   \n",
       "\n",
       "  site_domain site_category    app_id app_domain ...  device_type  \\\n",
       "0    f3845767      28905ebd  ecad2386   7801e8d9 ...            1   \n",
       "1    f3845767      28905ebd  ecad2386   7801e8d9 ...            1   \n",
       "2    7e091613      f028772b  ecad2386   7801e8d9 ...            1   \n",
       "3    f3845767      28905ebd  ecad2386   7801e8d9 ...            1   \n",
       "4    f3845767      28905ebd  ecad2386   7801e8d9 ...            1   \n",
       "\n",
       "  device_conn_type    C14  C15  C16   C17  C18  C19    C20  C21  \n",
       "0                0  15699  320   50  1722    0   35  34548   79  \n",
       "1                2  15703  320   50  1722    0   35  65535   79  \n",
       "2                0  20632  320   50  2374    3   39  65535   23  \n",
       "3                0  15701  320   50  1722    0   35  65535   79  \n",
       "4                0  15701  320   50  1722    0   35  34548   79  \n",
       "\n",
       "[5 rows x 24 columns]"
      ]
     },
     "execution_count": 11,
     "metadata": {},
     "output_type": "execute_result"
    }
   ],
   "source": [
    "train_data.head()"
   ]
  },
  {
   "cell_type": "code",
   "execution_count": 12,
   "metadata": {},
   "outputs": [
    {
     "data": {
      "text/html": [
       "<div>\n",
       "<style scoped>\n",
       "    .dataframe tbody tr th:only-of-type {\n",
       "        vertical-align: middle;\n",
       "    }\n",
       "\n",
       "    .dataframe tbody tr th {\n",
       "        vertical-align: top;\n",
       "    }\n",
       "\n",
       "    .dataframe thead th {\n",
       "        text-align: right;\n",
       "    }\n",
       "</style>\n",
       "<table border=\"1\" class=\"dataframe\">\n",
       "  <thead>\n",
       "    <tr style=\"text-align: right;\">\n",
       "      <th></th>\n",
       "      <th>C1</th>\n",
       "      <th>banner_pos</th>\n",
       "      <th>device_type</th>\n",
       "      <th>device_conn_type</th>\n",
       "      <th>C14</th>\n",
       "      <th>C15</th>\n",
       "      <th>C16</th>\n",
       "      <th>C17</th>\n",
       "      <th>C18</th>\n",
       "      <th>C19</th>\n",
       "      <th>C20</th>\n",
       "      <th>C21</th>\n",
       "    </tr>\n",
       "  </thead>\n",
       "  <tbody>\n",
       "    <tr>\n",
       "      <th>count</th>\n",
       "      <td>1000000.000000</td>\n",
       "      <td>1000000.000000</td>\n",
       "      <td>1000000.000000</td>\n",
       "      <td>1000000.000000</td>\n",
       "      <td>1000000.000000</td>\n",
       "      <td>1000000.000000</td>\n",
       "      <td>1000000.000000</td>\n",
       "      <td>1000000.000000</td>\n",
       "      <td>1000000.000000</td>\n",
       "      <td>1000000.000000</td>\n",
       "      <td>1000000.000000</td>\n",
       "      <td>1000000.000000</td>\n",
       "    </tr>\n",
       "    <tr>\n",
       "      <th>mean</th>\n",
       "      <td>1004.967451</td>\n",
       "      <td>0.287497</td>\n",
       "      <td>1.015193</td>\n",
       "      <td>0.330226</td>\n",
       "      <td>18837.135458</td>\n",
       "      <td>318.886004</td>\n",
       "      <td>60.012164</td>\n",
       "      <td>2112.125311</td>\n",
       "      <td>1.432311</td>\n",
       "      <td>227.231035</td>\n",
       "      <td>49082.698085</td>\n",
       "      <td>83.395284</td>\n",
       "    </tr>\n",
       "    <tr>\n",
       "      <th>std</th>\n",
       "      <td>1.097453</td>\n",
       "      <td>0.507002</td>\n",
       "      <td>0.528572</td>\n",
       "      <td>0.852523</td>\n",
       "      <td>4969.191751</td>\n",
       "      <td>21.258630</td>\n",
       "      <td>47.147516</td>\n",
       "      <td>610.221744</td>\n",
       "      <td>1.326406</td>\n",
       "      <td>351.596158</td>\n",
       "      <td>15448.714515</td>\n",
       "      <td>70.307156</td>\n",
       "    </tr>\n",
       "    <tr>\n",
       "      <th>min</th>\n",
       "      <td>1001.000000</td>\n",
       "      <td>0.000000</td>\n",
       "      <td>0.000000</td>\n",
       "      <td>0.000000</td>\n",
       "      <td>375.000000</td>\n",
       "      <td>120.000000</td>\n",
       "      <td>20.000000</td>\n",
       "      <td>112.000000</td>\n",
       "      <td>0.000000</td>\n",
       "      <td>33.000000</td>\n",
       "      <td>34464.000000</td>\n",
       "      <td>1.000000</td>\n",
       "    </tr>\n",
       "    <tr>\n",
       "      <th>25%</th>\n",
       "      <td>1005.000000</td>\n",
       "      <td>0.000000</td>\n",
       "      <td>1.000000</td>\n",
       "      <td>0.000000</td>\n",
       "      <td>16920.000000</td>\n",
       "      <td>320.000000</td>\n",
       "      <td>50.000000</td>\n",
       "      <td>1863.000000</td>\n",
       "      <td>0.000000</td>\n",
       "      <td>35.000000</td>\n",
       "      <td>34548.000000</td>\n",
       "      <td>23.000000</td>\n",
       "    </tr>\n",
       "    <tr>\n",
       "      <th>50%</th>\n",
       "      <td>1005.000000</td>\n",
       "      <td>0.000000</td>\n",
       "      <td>1.000000</td>\n",
       "      <td>0.000000</td>\n",
       "      <td>20346.000000</td>\n",
       "      <td>320.000000</td>\n",
       "      <td>50.000000</td>\n",
       "      <td>2323.000000</td>\n",
       "      <td>2.000000</td>\n",
       "      <td>39.000000</td>\n",
       "      <td>34657.000000</td>\n",
       "      <td>61.000000</td>\n",
       "    </tr>\n",
       "    <tr>\n",
       "      <th>75%</th>\n",
       "      <td>1005.000000</td>\n",
       "      <td>1.000000</td>\n",
       "      <td>1.000000</td>\n",
       "      <td>0.000000</td>\n",
       "      <td>21894.000000</td>\n",
       "      <td>320.000000</td>\n",
       "      <td>50.000000</td>\n",
       "      <td>2526.000000</td>\n",
       "      <td>3.000000</td>\n",
       "      <td>171.000000</td>\n",
       "      <td>65535.000000</td>\n",
       "      <td>101.000000</td>\n",
       "    </tr>\n",
       "    <tr>\n",
       "      <th>max</th>\n",
       "      <td>1012.000000</td>\n",
       "      <td>7.000000</td>\n",
       "      <td>5.000000</td>\n",
       "      <td>5.000000</td>\n",
       "      <td>24043.000000</td>\n",
       "      <td>1024.000000</td>\n",
       "      <td>1024.000000</td>\n",
       "      <td>2757.000000</td>\n",
       "      <td>3.000000</td>\n",
       "      <td>1839.000000</td>\n",
       "      <td>65535.000000</td>\n",
       "      <td>255.000000</td>\n",
       "    </tr>\n",
       "  </tbody>\n",
       "</table>\n",
       "</div>"
      ],
      "text/plain": [
       "                   C1      banner_pos     device_type  device_conn_type  \\\n",
       "count  1000000.000000  1000000.000000  1000000.000000    1000000.000000   \n",
       "mean      1004.967451        0.287497        1.015193          0.330226   \n",
       "std          1.097453        0.507002        0.528572          0.852523   \n",
       "min       1001.000000        0.000000        0.000000          0.000000   \n",
       "25%       1005.000000        0.000000        1.000000          0.000000   \n",
       "50%       1005.000000        0.000000        1.000000          0.000000   \n",
       "75%       1005.000000        1.000000        1.000000          0.000000   \n",
       "max       1012.000000        7.000000        5.000000          5.000000   \n",
       "\n",
       "                  C14             C15             C16             C17  \\\n",
       "count  1000000.000000  1000000.000000  1000000.000000  1000000.000000   \n",
       "mean     18837.135458      318.886004       60.012164     2112.125311   \n",
       "std       4969.191751       21.258630       47.147516      610.221744   \n",
       "min        375.000000      120.000000       20.000000      112.000000   \n",
       "25%      16920.000000      320.000000       50.000000     1863.000000   \n",
       "50%      20346.000000      320.000000       50.000000     2323.000000   \n",
       "75%      21894.000000      320.000000       50.000000     2526.000000   \n",
       "max      24043.000000     1024.000000     1024.000000     2757.000000   \n",
       "\n",
       "                  C18             C19             C20             C21  \n",
       "count  1000000.000000  1000000.000000  1000000.000000  1000000.000000  \n",
       "mean         1.432311      227.231035    49082.698085       83.395284  \n",
       "std          1.326406      351.596158    15448.714515       70.307156  \n",
       "min          0.000000       33.000000    34464.000000        1.000000  \n",
       "25%          0.000000       35.000000    34548.000000       23.000000  \n",
       "50%          2.000000       39.000000    34657.000000       61.000000  \n",
       "75%          3.000000      171.000000    65535.000000      101.000000  \n",
       "max          3.000000     1839.000000    65535.000000      255.000000  "
      ]
     },
     "execution_count": 12,
     "metadata": {},
     "output_type": "execute_result"
    }
   ],
   "source": [
    "train_data.describe()"
   ]
  },
  {
   "cell_type": "markdown",
   "metadata": {},
   "source": [
    "### CTR - Click vs. No Click distribution"
   ]
  },
  {
   "cell_type": "code",
   "execution_count": 13,
   "metadata": {},
   "outputs": [
    {
     "name": "stdout",
     "output_type": "stream",
     "text": [
      "(%) of Clicked vs. Not Clicked\n",
      "\n",
      "False    83.0843\n",
      "True     16.9157\n",
      "Name: click, dtype: float64\n"
     ]
    },
    {
     "data": {
      "image/png": "[encoded data removed]",
      "text/plain": [
       "<matplotlib.figure.Figure at 0x1c30368b38>"
      ]
     },
     "metadata": {},
     "output_type": "display_data"
    }
   ],
   "source": [
    "sns.countplot(x='click', data=train_data, palette='hls')\n",
    "print(\"(%) of Clicked vs. Not Clicked\\n\")\n",
    "print(train_data['click'].value_counts()*100/sample_size)"
   ]
  },
  {
   "cell_type": "markdown",
   "metadata": {},
   "source": [
    "Click Through Rate for this sampled data is approx 17%, while the 83% did not clicked."
   ]
  },
  {
   "cell_type": "markdown",
   "metadata": {},
   "source": [
    "Let us check for the number of hours of total days of the data we have i.e. **10 day** i.e. **240 hours**"
   ]
  },
  {
   "cell_type": "code",
   "execution_count": 14,
   "metadata": {},
   "outputs": [
    {
     "data": {
      "text/plain": [
       "Text(0.5,1,'Number of clicks by hour')"
      ]
     },
     "execution_count": 14,
     "metadata": {},
     "output_type": "execute_result"
    },
    {
     "data": {
      "image/png": "[encoded data removed]",
      "text/plain": [
       "<matplotlib.figure.Figure at 0x1c30368a58>"
      ]
     },
     "metadata": {},
     "output_type": "display_data"
    }
   ],
   "source": [
    "train_data.groupby('hour').agg({'click':'sum'}).plot(figsize = (8,5))\n",
    "plt.ylabel('Number of clicks')\n",
    "plt.title('Number of clicks by hour')"
   ]
  },
  {
   "cell_type": "markdown",
   "metadata": {},
   "source": [
    "The pattern looks pretty similar for all the 10 days. However, there are peaks between 22nd-23rd day and 28th-29th day. The lowest peak has be between 24th and 25th day."
   ]
  },
  {
   "cell_type": "markdown",
   "metadata": {},
   "source": [
    "### Breaking down date time feature and extracting hours"
   ]
  },
  {
   "cell_type": "markdown",
   "metadata": {},
   "source": [
    "#### Hours"
   ]
  },
  {
   "cell_type": "code",
   "execution_count": 15,
   "metadata": {},
   "outputs": [
    {
     "data": {
      "text/plain": [
       "Text(0.5,1,'click trends by hour of day')"
      ]
     },
     "execution_count": 15,
     "metadata": {},
     "output_type": "execute_result"
    },
    {
     "data": {
      "image/png": "[encoded data removed]",
      "text/plain": [
       "<matplotlib.figure.Figure at 0x1c2cc20d68>"
      ]
     },
     "metadata": {},
     "output_type": "display_data"
    }
   ],
   "source": [
    "train_data['hour_of_day']=train_data.hour.apply(lambda x: x.hour)\n",
    "train_data.groupby('hour_of_day').agg({'click':'sum'}).plot(figsize=(8,5))\n",
    "plt.ylabel('Number of clicks')\n",
    "plt.title('click trends by hour of day')"
   ]
  },
  {
   "cell_type": "markdown",
   "metadata": {},
   "source": [
    "Observing the above plot, it can be seen that the highest number of ads have been clicked in the afternoon time i.e. between the 13th and 14th hour (1pm-2pm). The least were at the 0th hour (mid night). Just to compare clicks vs. not clicks we can see the impressions in the below plot"
   ]
  },
  {
   "cell_type": "code",
   "execution_count": 16,
   "metadata": {},
   "outputs": [
    {
     "data": {
      "text/plain": [
       "Text(0.5,1,'Hourly impressions vs. clicks')"
      ]
     },
     "execution_count": 16,
     "metadata": {},
     "output_type": "execute_result"
    },
    {
     "data": {
      "image/png": "[encoded data removed]",
      "text/plain": [
       "<matplotlib.figure.Figure at 0x1c2fd612b0>"
      ]
     },
     "metadata": {},
     "output_type": "display_data"
    }
   ],
   "source": [
    "train_data.groupby(['hour_of_day', 'click']).size().unstack().plot(kind = 'bar', figsize = (8,5))\n",
    "plt.ylabel('count')\n",
    "plt.title('Hourly impressions vs. clicks')"
   ]
  },
  {
   "cell_type": "markdown",
   "metadata": {},
   "source": [
    "### Calculating CTR using Impressions and Clicks"
   ]
  },
  {
   "cell_type": "markdown",
   "metadata": {},
   "source": [
    "#### CTR - Hourly"
   ]
  },
  {
   "cell_type": "code",
   "execution_count": 17,
   "metadata": {},
   "outputs": [],
   "source": [
    "df_click = train_data[train_data['click']==1]df_click = train_data[train_data['click']==1]"
   ]
  },
  {
   "cell_type": "code",
   "execution_count": 18,
   "metadata": {},
   "outputs": [],
   "source": [
    "df_hour = train_data[['hour_of_day', 'click']].groupby(['hour_of_day']).count().reset_index()"
   ]
  },
  {
   "cell_type": "code",
   "execution_count": 19,
   "metadata": {},
   "outputs": [],
   "source": [
    "df_hour = df_hour.rename(columns={'click':'impressions'})"
   ]
  },
  {
   "cell_type": "code",
   "execution_count": 20,
   "metadata": {},
   "outputs": [],
   "source": [
    "df_hour['click'] = df_click[['hour_of_day','click']].groupby(['hour_of_day']).count().reset_index()['click']"
   ]
  },
  {
   "cell_type": "code",
   "execution_count": 21,
   "metadata": {},
   "outputs": [],
   "source": [
    "df_hour['CTR'] = df_hour['click']*100/df_hour['impressions']"
   ]
  },
  {
   "cell_type": "markdown",
   "metadata": {},
   "source": [
    "Plotting the Hourly CTR"
   ]
  },
  {
   "cell_type": "code",
   "execution_count": 22,
   "metadata": {},
   "outputs": [
    {
     "data": {
      "text/html": [
       "<div>\n",
       "<style scoped>\n",
       "    .dataframe tbody tr th:only-of-type {\n",
       "        vertical-align: middle;\n",
       "    }\n",
       "\n",
       "    .dataframe tbody tr th {\n",
       "        vertical-align: top;\n",
       "    }\n",
       "\n",
       "    .dataframe thead th {\n",
       "        text-align: right;\n",
       "    }\n",
       "</style>\n",
       "<table border=\"1\" class=\"dataframe\">\n",
       "  <thead>\n",
       "    <tr style=\"text-align: right;\">\n",
       "      <th></th>\n",
       "      <th>hour_of_day</th>\n",
       "      <th>impressions</th>\n",
       "      <th>click</th>\n",
       "      <th>CTR</th>\n",
       "    </tr>\n",
       "  </thead>\n",
       "  <tbody>\n",
       "    <tr>\n",
       "      <th>0</th>\n",
       "      <td>0</td>\n",
       "      <td>20984</td>\n",
       "      <td>3867</td>\n",
       "      <td>18.428326</td>\n",
       "    </tr>\n",
       "    <tr>\n",
       "      <th>1</th>\n",
       "      <td>1</td>\n",
       "      <td>24192</td>\n",
       "      <td>4496</td>\n",
       "      <td>18.584656</td>\n",
       "    </tr>\n",
       "    <tr>\n",
       "      <th>2</th>\n",
       "      <td>2</td>\n",
       "      <td>29902</td>\n",
       "      <td>5252</td>\n",
       "      <td>17.564043</td>\n",
       "    </tr>\n",
       "    <tr>\n",
       "      <th>3</th>\n",
       "      <td>3</td>\n",
       "      <td>34612</td>\n",
       "      <td>6027</td>\n",
       "      <td>17.413036</td>\n",
       "    </tr>\n",
       "    <tr>\n",
       "      <th>4</th>\n",
       "      <td>4</td>\n",
       "      <td>47316</td>\n",
       "      <td>7444</td>\n",
       "      <td>15.732522</td>\n",
       "    </tr>\n",
       "  </tbody>\n",
       "</table>\n",
       "</div>"
      ],
      "text/plain": [
       "   hour_of_day  impressions  click        CTR\n",
       "0            0        20984   3867  18.428326\n",
       "1            1        24192   4496  18.584656\n",
       "2            2        29902   5252  17.564043\n",
       "3            3        34612   6027  17.413036\n",
       "4            4        47316   7444  15.732522"
      ]
     },
     "execution_count": 22,
     "metadata": {},
     "output_type": "execute_result"
    }
   ],
   "source": [
    "df_hour.head()"
   ]
  },
  {
   "cell_type": "code",
   "execution_count": 24,
   "metadata": {},
   "outputs": [
    {
     "data": {
      "text/plain": [
       "Text(0.5,1,'CTR - Hourly')"
      ]
     },
     "execution_count": 24,
     "metadata": {},
     "output_type": "execute_result"
    },
    {
     "data": {
      "image/png": "[encoded data removed]",
      "text/plain": [
       "<matplotlib.figure.Figure at 0x111d718d0>"
      ]
     },
     "metadata": {},
     "output_type": "display_data"
    }
   ],
   "source": [
    "plt.figure(figsize=(8,5))\n",
    "sns.barplot(x='hour_of_day',y='CTR', data=df_hour)\n",
    "plt.title('CTR - Hourly')"
   ]
  },
  {
   "cell_type": "markdown",
   "metadata": {},
   "source": [
    "Here we can observe that the CTR for the mid night hours is higher compared to their clicks and impressions."
   ]
  },
  {
   "cell_type": "markdown",
   "metadata": {},
   "source": [
    "#### Day of Week"
   ]
  },
  {
   "cell_type": "code",
   "execution_count": 25,
   "metadata": {},
   "outputs": [],
   "source": [
    "train_data['day_of_week'] = train_data['hour'].apply(lambda val: val.weekday_name)"
   ]
  },
  {
   "cell_type": "code",
   "execution_count": 26,
   "metadata": {},
   "outputs": [
    {
     "data": {
      "text/plain": [
       "Text(0.5,1,'Click Trends By Day of Week')"
      ]
     },
     "execution_count": 26,
     "metadata": {},
     "output_type": "execute_result"
    },
    {
     "data": {
      "image/png": "[encoded data removed]",
      "text/plain": [
       "<matplotlib.figure.Figure at 0x1c259ee320>"
      ]
     },
     "metadata": {},
     "output_type": "display_data"
    }
   ],
   "source": [
    "days = ['Monday', 'Tuesday', 'Wednesday', 'Thursday', 'Friday', 'Saturday', 'Sunday']\n",
    "train_data[['day_of_week', 'click']].groupby(['day_of_week']).count().reindex(days).plot(figsize = (8,5))\n",
    "plt.xticks(list(range(0,7,1)), \"Mon Tue Wed Thr Fri Sat Sun\".split())\n",
    "plt.title('Click Trends By Day of Week')"
   ]
  },
  {
   "cell_type": "code",
   "execution_count": 27,
   "metadata": {},
   "outputs": [
    {
     "data": {
      "text/html": [
       "<div>\n",
       "<style scoped>\n",
       "    .dataframe tbody tr th:only-of-type {\n",
       "        vertical-align: middle;\n",
       "    }\n",
       "\n",
       "    .dataframe tbody tr th {\n",
       "        vertical-align: top;\n",
       "    }\n",
       "\n",
       "    .dataframe thead th {\n",
       "        text-align: right;\n",
       "    }\n",
       "</style>\n",
       "<table border=\"1\" class=\"dataframe\">\n",
       "  <thead>\n",
       "    <tr style=\"text-align: right;\">\n",
       "      <th>click</th>\n",
       "      <th>False</th>\n",
       "      <th>True</th>\n",
       "    </tr>\n",
       "    <tr>\n",
       "      <th>day_of_week</th>\n",
       "      <th></th>\n",
       "      <th></th>\n",
       "    </tr>\n",
       "  </thead>\n",
       "  <tbody>\n",
       "    <tr>\n",
       "      <th>Friday</th>\n",
       "      <td>67924</td>\n",
       "      <td>14321</td>\n",
       "    </tr>\n",
       "    <tr>\n",
       "      <th>Monday</th>\n",
       "      <td>65510</td>\n",
       "      <td>14451</td>\n",
       "    </tr>\n",
       "    <tr>\n",
       "      <th>Saturday</th>\n",
       "      <td>68245</td>\n",
       "      <td>15049</td>\n",
       "    </tr>\n",
       "    <tr>\n",
       "      <th>Sunday</th>\n",
       "      <td>77468</td>\n",
       "      <td>17331</td>\n",
       "    </tr>\n",
       "    <tr>\n",
       "      <th>Thursday</th>\n",
       "      <td>164912</td>\n",
       "      <td>34839</td>\n",
       "    </tr>\n",
       "    <tr>\n",
       "      <th>Tuesday</th>\n",
       "      <td>195132</td>\n",
       "      <td>37445</td>\n",
       "    </tr>\n",
       "    <tr>\n",
       "      <th>Wednesday</th>\n",
       "      <td>191652</td>\n",
       "      <td>35721</td>\n",
       "    </tr>\n",
       "  </tbody>\n",
       "</table>\n",
       "</div>"
      ],
      "text/plain": [
       "click         False  True \n",
       "day_of_week               \n",
       "Friday        67924  14321\n",
       "Monday        65510  14451\n",
       "Saturday      68245  15049\n",
       "Sunday        77468  17331\n",
       "Thursday     164912  34839\n",
       "Tuesday      195132  37445\n",
       "Wednesday    191652  35721"
      ]
     },
     "execution_count": 27,
     "metadata": {},
     "output_type": "execute_result"
    }
   ],
   "source": [
    "train_data.groupby(['day_of_week', 'click']).size().unstack()"
   ]
  },
  {
   "cell_type": "code",
   "execution_count": 28,
   "metadata": {},
   "outputs": [
    {
     "data": {
      "image/png": "[encoded data removed]",
      "text/plain": [
       "<matplotlib.figure.Figure at 0x1c2dc8eef0>"
      ]
     },
     "metadata": {},
     "output_type": "display_data"
    }
   ],
   "source": [
    "train_data.groupby(['day_of_week','click']).size().unstack().reindex(days).plot(kind='bar', title=\"Day of the Week\", figsize=(12,6))\n",
    "ticks = list(range(0, 7, 1)) # points on the x axis where you want the label to appear\n",
    "labels = \"Mon Tues Weds Thurs Fri Sat Sun\".split()\n",
    "plt.xticks(list(range(0,7,1)), \"Mon Tue Wed Thr Fri Sat Sun\".split())\n",
    "plt.title('Impressions vs. clicks by day of week');"
   ]
  },
  {
   "cell_type": "markdown",
   "metadata": {},
   "source": [
    "Tuesdays have the most number of impressions and clicks forllowed by Wednesdays followed by Thursdays. Mondays and Fridays have least nunber of impressions and clicks. "
   ]
  },
  {
   "cell_type": "code",
   "execution_count": 30,
   "metadata": {},
   "outputs": [
    {
     "data": {
      "image/png": "[encoded data removed]",
      "text/plain": [
       "<matplotlib.figure.Figure at 0x1c2bbebd30>"
      ]
     },
     "metadata": {},
     "output_type": "display_data"
    }
   ],
   "source": [
    "df_click = train_data[train_data['click'] == 1]\n",
    "df_dayofweek = train_data[['day_of_week','click']].groupby(['day_of_week']).count().reset_index()\n",
    "df_dayofweek = df_dayofweek.rename(columns={'click': 'impressions'})\n",
    "df_dayofweek['clicks'] = df_click[['day_of_week','click']].groupby(['day_of_week']).count().reset_index()['click']\n",
    "df_dayofweek['CTR'] = df_dayofweek['clicks']/df_dayofweek['impressions']*100\n",
    "\n",
    "plt.figure(figsize=(8,5))\n",
    "sns.barplot(y='CTR', x='day_of_week', data=df_dayofweek, order=['Monday', 'Tuesday', 'Wednesday', 'Thursday', 'Friday', 'Saturday', 'Sunday'])\n",
    "plt.title('Day of week CTR');"
   ]
  },
  {
   "cell_type": "markdown",
   "metadata": {},
   "source": [
    "Comparing the Day of week CTR plot and impressions vs click plot, monday and weekends have less clicks but have a higher CTR. People are clicking more ads over weekends compared to weekdays."
   ]
  },
  {
   "cell_type": "markdown",
   "metadata": {},
   "source": [
    "#### C1 Anonymized Categorical Feature "
   ]
  },
  {
   "cell_type": "markdown",
   "metadata": {},
   "source": [
    "Let's check what information this feature provides and its distribution "
   ]
  },
  {
   "cell_type": "code",
   "execution_count": 41,
   "metadata": {},
   "outputs": [
    {
     "data": {
      "text/plain": [
       "1005    0.918280\n",
       "1002    0.055257\n",
       "1010    0.022399\n",
       "1012    0.002857\n",
       "1007    0.000846\n",
       "1001    0.000221\n",
       "1008    0.000140\n",
       "Name: C1, dtype: float64"
      ]
     },
     "execution_count": 41,
     "metadata": {},
     "output_type": "execute_result"
    }
   ],
   "source": [
    "train_data['C1'].value_counts()/len(train_data)"
   ]
  },
  {
   "cell_type": "code",
   "execution_count": 42,
   "metadata": {},
   "outputs": [
    {
     "data": {
      "image/png": "[encoded data removed]",
      "text/plain": [
       "<matplotlib.figure.Figure at 0x1c29401cc0>"
      ]
     },
     "metadata": {},
     "output_type": "display_data"
    }
   ],
   "source": [
    "train_data.groupby(['C1', 'click']).size().unstack().plot(kind='bar', figsize=(8,5), title='Impressions vs Clicks');"
   ]
  },
  {
   "cell_type": "code",
   "execution_count": 43,
   "metadata": {},
   "outputs": [
    {
     "data": {
      "image/png": "[encoded data removed]",
      "text/plain": [
       "<matplotlib.figure.Figure at 0x1c29269710>"
      ]
     },
     "metadata": {},
     "output_type": "display_data"
    }
   ],
   "source": [
    "df_c1 = train_data[['C1','click']].groupby(['C1']).count().reset_index()\n",
    "df_c1 = df_c1.rename(columns={'click': 'impressions'})\n",
    "df_c1['clicks'] = df_click[['C1','click']].groupby(['C1']).count().reset_index()['click']\n",
    "df_c1['CTR'] = df_c1['clicks']/df_c1['impressions']*100\n",
    "\n",
    "plt.figure(figsize=(8,5))\n",
    "sns.barplot(y='CTR', x='C1', data=df_c1)\n",
    "plt.title('CTR by C1');"
   ]
  },
  {
   "cell_type": "code",
   "execution_count": 48,
   "metadata": {},
   "outputs": [
    {
     "name": "stdout",
     "output_type": "stream",
     "text": [
      "CTR values for C1 categories:\n",
      "1001 ==> CTR: 0.032\n",
      "1002 ==> CTR: 0.21\n",
      "1005 ==> CTR: 0.169\n",
      "1007 ==> CTR: 0.039\n",
      "1008 ==> CTR: 0.093\n",
      "1010 ==> CTR: 0.096\n",
      "1012 ==> CTR: 0.176\n"
     ]
    }
   ],
   "source": [
    "C1_values = train_data.C1.unique()\n",
    "C1_values.sort()\n",
    "ctr_avg_list=[]\n",
    "print(\"CTR values for C1 categories:\")\n",
    "for i in C1_values:\n",
    "    ctr_avg=train_data.loc[np.where((train_data.C1 == i))].click.mean()\n",
    "    ctr_avg_list.append(ctr_avg)\n",
    "    print(\"{} ==> CTR: {}\".format(i,np.round(ctr_avg,3)))"
   ]
  },
  {
   "cell_type": "code",
   "execution_count": 57,
   "metadata": {},
   "outputs": [
    {
     "name": "stdout",
     "output_type": "stream",
     "text": [
      "The average CTR for this data is 0.169157\n"
     ]
    }
   ],
   "source": [
    "print(\"The average CTR for this data is {}\".format(train_data['click'].mean()))"
   ]
  },
  {
   "cell_type": "markdown",
   "metadata": {},
   "source": [
    "According to information provided by the C1 values and their CTRs, these are the C1 values which are imporant in predicting CTR\n",
    "\n",
    "* 1005: 92% of the data and 0.17 CTR\n",
    "* 1002: 5.5% of the data and 0.21 CTR\n",
    "* 1010: 2.3% of the data and 0.096 CTR"
   ]
  },
  {
   "cell_type": "markdown",
   "metadata": {},
   "source": [
    "### Banner Position"
   ]
  },
  {
   "cell_type": "markdown",
   "metadata": {},
   "source": [
    "According to digital marketing standards,banner positions holds an important factor and is considered as most influential."
   ]
  },
  {
   "cell_type": "code",
   "execution_count": 63,
   "metadata": {},
   "outputs": [
    {
     "data": {
      "text/plain": [
       "0    0.720711\n",
       "1    0.277437\n",
       "7    0.001091\n",
       "2    0.000350\n",
       "4    0.000210\n",
       "5    0.000140\n",
       "3    0.000061\n",
       "Name: banner_pos, dtype: float64"
      ]
     },
     "execution_count": 63,
     "metadata": {},
     "output_type": "execute_result"
    }
   ],
   "source": [
    "train_data.banner_pos.value_counts()/sample_size"
   ]
  },
  {
   "cell_type": "code",
   "execution_count": 64,
   "metadata": {},
   "outputs": [
    {
     "name": "stdout",
     "output_type": "stream",
     "text": [
      "CTR values for Banner Position values:\n",
      "0 ==> CTR: 0.164\n",
      "1 ==> CTR: 0.183\n",
      "2 ==> CTR: 0.094\n",
      "3 ==> CTR: 0.131\n",
      "4 ==> CTR: 0.19\n",
      "5 ==> CTR: 0.093\n",
      "7 ==> CTR: 0.306\n"
     ]
    }
   ],
   "source": [
    "banner_position = train_data.banner_pos.unique()\n",
    "banner_position.sort()\n",
    "ctr_avg_list=[]\n",
    "print(\"CTR values for Banner Position values:\")\n",
    "for i in banner_position:\n",
    "    ctr_avg=train_data.loc[np.where((train_data.banner_pos == i))].click.mean()\n",
    "    ctr_avg_list.append(ctr_avg)\n",
    "    print(\"{} ==> CTR: {}\".format(i,np.round(ctr_avg,3)))"
   ]
  },
  {
   "cell_type": "markdown",
   "metadata": {},
   "source": [
    "The important banner positions are:\n",
    "\n",
    "* position 0: 72% of the data and 0.16 CTR\n",
    "* position 1: 28% of the data and 0.18 CTR"
   ]
  },
  {
   "cell_type": "code",
   "execution_count": null,
   "metadata": {},
   "outputs": [],
   "source": []
  }
 ],
 "metadata": {
  "kernelspec": {
   "display_name": "Python 3",
   "language": "python",
   "name": "python3"
  },
  "language_info": {
   "codemirror_mode": {
    "name": "ipython",
    "version": 3
   },
   "file_extension": ".py",
   "mimetype": "text/x-python",
   "name": "python",
   "nbconvert_exporter": "python",
   "pygments_lexer": "ipython3",
   "version": "3.6.8"
  }
 },
 "nbformat": 4,
 "nbformat_minor": 2
}
